{
  "cells": [
    {
      "cell_type": "code",
      "execution_count": null,
      "metadata": {
        "id": "PDKbNnWRw0uO"
      },
      "outputs": [],
      "source": [
        "#References\n",
        "#https://towardsdatascience.com/another-twitter-sentiment-analysis-bb5b01ebad90\n",
        "#https://pasaentuciudad.com.mx/data-to-model-to-api-an-end-to-end-approach/\n",
        "#https://github.com/The-AI-Summer/Deep-Learning-In-Production/tree/master/2.%20Writing%20Deep%20Learning%20code:%20Best%20Practises"
      ]
    },
    {
      "cell_type": "markdown",
      "metadata": {
        "id": "8H-02yf-xC7x"
      },
      "source": [
        "# Install and import the necessary dependencies"
      ]
    },
    {
      "cell_type": "code",
      "execution_count": null,
      "metadata": {
        "id": "j7r9V2T_w-Rl"
      },
      "outputs": [],
      "source": [
        "\n",
        "from google.colab import drive\n",
        "\n",
        "#This will prompt for authorization.\n",
        "drive.mount('/content/drive')\n",
        "\n",
        "#Create a symbolic link, in order no to be able to save weights on drive. Otherwise it gives an error. \n",
        "!ln -s /content/drive/My\\ Drive /content/mydrive\n",
        "\n",
        "\n",
        "#Install requirements\n",
        "%cd mydrive/SentimentAnalysis\n",
        "!pip install -r requirements.txt \n",
        "\n",
        "\n",
        "import os\n",
        "import sys\n",
        "import requests, zipfile, io\n",
        "\n",
        "import pandas as pd\n",
        "import re\n",
        "\n",
        "import wordninja, contractions, emoji #preprocessing.py\n",
        "\n",
        "import seaborn as sns #visualization.py\n",
        "import nltk #visualization.py\n",
        "from nltk.corpus import stopwords #visualization.py\n",
        "\n",
        "import tensorflow as tf\n",
        "\n",
        "from sklearn.model_selection import train_test_split\n",
        "\n",
        "sys.path.insert(0,'/content/mydrive/SentimentAnalysis/src/utils')\n",
        "import Config\n",
        "\n",
        "sys.path.insert(0,'/content/mydrive/SentimentAnalysis/src/data')\n",
        "import dataloader, datacleaner\n",
        "\n",
        "sys.path.insert(0,'/content/mydrive/SentimentAnalysis/src/models/')\n",
        "import BaseModel,LSTM\n",
        "\n",
        "sys.path.insert(0,'/content/mydrive/SentimentAnalysis/configs')\n",
        "import config_main\n"
      ]
    },
    {
      "cell_type": "markdown",
      "metadata": {
        "id": "oDhp8yPlxQTW"
      },
      "source": [
        "# Load data"
      ]
    },
    {
      "cell_type": "code",
      "execution_count": 7,
      "metadata": {
        "colab": {
          "base_uri": "https://localhost:8080/"
        },
        "id": "hefMqAF-Phsa",
        "outputId": "1526b685-99be-40ac-8d70-70572d9e7073"
      },
      "outputs": [
        {
          "output_type": "stream",
          "name": "stdout",
          "text": [
            "Directory already existed :  /content/mydrive/SentimentAnalysis/datasets/Sentiment140\n",
            "Reading training data...\n",
            "Reading testing data...\n",
            "<class 'pandas.core.frame.DataFrame'>\n",
            "RangeIndex: 1600000 entries, 0 to 1599999\n",
            "Data columns (total 2 columns):\n",
            " #   Column     Non-Null Count    Dtype \n",
            "---  ------     --------------    ----- \n",
            " 0   sentiment  1600000 non-null  int64 \n",
            " 1   tweet      1600000 non-null  object\n",
            "dtypes: int64(1), object(1)\n",
            "memory usage: 24.4+ MB\n",
            "None\n"
          ]
        }
      ],
      "source": [
        "input_path = os.path.join(config_main.CFG['data']['base_path'], \n",
        "                          config_main.CFG['data']['name'])\n",
        "\n",
        "#Download and unzip dataset\n",
        "if not (os.path.isfile(config_main.CFG['data']['url'].split('/')[-1])):\n",
        "  dataloader.download_dataset_from_url(config_main.CFG['data']['url'])\n",
        "dataloader.unzip_data_to_folder(input_path, config_main.CFG['data']['url'].split('/')[-1])\n",
        "\n",
        "#Read unzipped data\n",
        "print(\"Reading training data...\")\n",
        "train_data_df = pd.read_csv(os.path.join(input_path, 'training.1600000.processed.noemoticon.csv'),  \n",
        "                            encoding='latin-1', usecols=[0,5], names=['sentiment','tweet'])\n",
        "\n",
        "print(\"Reading testing data...\")\n",
        "test_data_df = pd.read_csv(os.path.join(input_path, 'testdata.manual.2009.06.14.csv'),  \n",
        "                           encoding='latin-1', usecols=[0,5], names=['sentiment','tweet'])\n",
        "\n",
        "#Print dataset info\n",
        "print(train_data_df.info())\n"
      ]
    },
    {
      "cell_type": "markdown",
      "metadata": {
        "id": "PMcYrpxB3u_7"
      },
      "source": [
        "# Preprocess data"
      ]
    },
    {
      "cell_type": "code",
      "execution_count": null,
      "metadata": {
        "id": "WwxW9HXv-pkL"
      },
      "outputs": [],
      "source": [
        "# Preprocessing tweets data\n",
        "print(\"Cleaning and parsing the tweets from training data...\")\n",
        "train_data_df = train_data_df.iloc[0:1000000] #TO-DO: Remove\n",
        "train_data_df.tweet = train_data_df.tweet.apply(datacleaner.preprocess_tweet)\n",
        "print(\"Finished!\\n\")\n",
        "\n",
        "# Preprocessing labels to have classes 0 and 1\n",
        "train_data_df.sentiment = train_data_df.sentiment.apply(lambda value: 1 if value==4 \n",
        "                                                        else value)\n",
        "\n",
        "print(\"Sentiment values: \")\n",
        "print(train_data_df.sentiment.value_counts())\n",
        "\n",
        "print(train_data_df.head(5))\n",
        "\n",
        "\n",
        "\n",
        "# Preprocessing tweets data\n",
        "print(\"\\nCleaning and parsing the tweets from testing data...\")\n",
        "test_data_df = test_data_df.iloc[0:1000] #TO-DO: Remove\n",
        "test_data_df.tweet = test_data_df.tweet.apply(datacleaner.preprocess_tweet)\n",
        "print(\"Finished!\\n\")\n",
        "\n",
        "test_data_df = test_data_df[test_data_df.sentiment!=2] #Remove intermediate polarities\n",
        "test_data_df.sentiment.value_counts()/test_data_df.shape[0]\n",
        "\n",
        "test_data_df.sentiment = test_data_df.sentiment.apply(lambda value: 1 if value==4 else value)\n",
        "\n",
        "print(test_data_df.sentiment.value_counts()/test_data_df.shape[0])\n",
        "\n",
        "\n",
        "# Preprocessing labels to have classes 0 and 1\n",
        "test_data_df.sentiment = test_data_df.sentiment.apply(lambda value: 1 if value==4 else value)\n"
      ]
    },
    {
      "cell_type": "markdown",
      "metadata": {
        "id": "jUoDy_SLa3WD"
      },
      "source": [
        "# Analyze data\n",
        "Estimating the vocabulary size and the vector sequence length to be fed to the model every instance is a crucial step for a good model.\n",
        "\n",
        "This is achieved by analyzing the training dataset, by plotting the \n",
        "distribution of tweet lengths across the training data.\n"
      ]
    },
    {
      "cell_type": "code",
      "execution_count": 17,
      "metadata": {
        "id": "LzakgPb2QY-T",
        "colab": {
          "base_uri": "https://localhost:8080/",
          "height": 424
        },
        "outputId": "0aca185b-4ddf-41da-cd11-66d7b6d1e0ee"
      },
      "outputs": [
        {
          "output_type": "stream",
          "name": "stderr",
          "text": [
            "/usr/local/lib/python3.7/dist-packages/seaborn/distributions.py:2619: FutureWarning: `distplot` is a deprecated function and will be removed in a future version. Please adapt your code to use either `displot` (a figure-level function with similar flexibility) or `histplot` (an axes-level function for histograms).\n",
            "  warnings.warn(msg, FutureWarning)\n"
          ]
        },
        {
          "output_type": "stream",
          "name": "stdout",
          "text": [
            "Total Unique Words: 7698\n",
            "[nltk_data] Downloading package stopwords to /root/nltk_data...\n",
            "[nltk_data]   Unzipping corpora/stopwords.zip.\n",
            "Total words 64948\n",
            "Total stop words 28645\n",
            "Ratio of total words to total stop words: 2.267341595391866\n"
          ]
        },
        {
          "output_type": "display_data",
          "data": {
            "text/plain": [
              "<Figure size 432x288 with 1 Axes>"
            ],
            "image/png": "[encoded data removed]"
          },
          "metadata": {
            "needs_background": "light"
          }
        }
      ],
      "source": [
        "\"\"\"\n",
        "Return the length of a tweet.\n",
        "Input: tweet(str)\n",
        "Output: length(int)\n",
        "\"\"\"\n",
        "def tweet_length(tweet):\n",
        "  return len([token for token in tweet.split()])\n",
        "\n",
        "tweet_lengths = [tweet_length(tweet) for tweet in train_data_df.tweet.tolist()]\n",
        "sns.distplot(tweet_lengths)\n",
        "\n",
        "# Unique words\n",
        "unique_words = set([token for tweet in train_data_df.tweet for token in tweet.split()])\n",
        "print(\"Total Unique Words:\", len(unique_words))\n",
        "\n",
        "# Counting Total Words and Stop Words\n",
        "nltk.download(\"stopwords\")\n",
        "stop_words = stopwords.words(\"english\")\n",
        "total_words = [token for tweet in train_data_df.tweet for token in tweet.split()]\n",
        "total_stop_words = [token for tweet in train_data_df.tweet for token in tweet.split() if token in stop_words]\n",
        "print('Total words', len(total_words))\n",
        "print('Total stop words', len(total_stop_words))\n",
        "print('Ratio of total words to total stop words:', len(total_words)/len(total_stop_words))"
      ]
    },
    {
      "cell_type": "markdown",
      "metadata": {
        "id": "rspb76kIluXY"
      },
      "source": [
        "# Train, save/serialize and evaluate the model\n"
      ]
    },
    {
      "cell_type": "code",
      "execution_count": 22,
      "metadata": {
        "id": "N0eU2qradaKb"
      },
      "outputs": [],
      "source": [
        "from importlib import reload  # Py3 only; unneeded in py2.\n",
        "foo = reload(LSTM)"
      ]
    },
    {
      "cell_type": "code",
      "execution_count": 9,
      "metadata": {
        "colab": {
          "base_uri": "https://localhost:8080/"
        },
        "id": "HG3NE-k2EPrf",
        "outputId": "8085482e-318f-4d0f-df43-33ba6a59a2ea"
      },
      "outputs": [
        {
          "output_type": "stream",
          "name": "stdout",
          "text": [
            "[1]\n",
            "Model: \"model_1\"\n",
            "_________________________________________________________________\n",
            " Layer (type)                Output Shape              Param #   \n",
            "=================================================================\n",
            " input_2 (InputLayer)        [(None, 1)]               0         \n",
            "                                                                 \n",
            " text_vectorization_1 (TextV  (None, 50)               0         \n",
            " ectorization)                                                   \n",
            "                                                                 \n",
            " embedding_1 (Embedding)     (None, 50, 128)           9600128   \n",
            "                                                                 \n",
            " LSTM_1 (LSTM)               (None, 50, 256)           394240    \n",
            "                                                                 \n",
            " LSTM_2 (LSTM)               (None, 256)               525312    \n",
            "                                                                 \n",
            " dropout_1 (Dropout)         (None, 256)               0         \n",
            "                                                                 \n",
            " dense_2 (Dense)             (None, 64)                16448     \n",
            "                                                                 \n",
            " dense_3 (Dense)             (None, 1)                 65        \n",
            "                                                                 \n",
            "=================================================================\n",
            "Total params: 10,536,193\n",
            "Trainable params: 10,536,193\n",
            "Non-trainable params: 0\n",
            "_________________________________________________________________\n",
            "None\n",
            "Epoch 1/3\n",
            "781/781 [==============================] - 71s 86ms/step - loss: 0.3736 - accuracy: 0.8474 - val_loss: 0.3119 - val_accuracy: 0.8708\n",
            "Epoch 2/3\n",
            "781/781 [==============================] - 66s 84ms/step - loss: 0.2918 - accuracy: 0.8803 - val_loss: 0.3172 - val_accuracy: 0.8729\n",
            "Epoch 3/3\n",
            "781/781 [==============================] - 66s 84ms/step - loss: 0.2585 - accuracy: 0.8963 - val_loss: 0.3543 - val_accuracy: 0.8647\n",
            "export_path = /content/mydrive/SentimentAnalysis/models/3\n",
            "\n"
          ]
        },
        {
          "output_type": "stream",
          "name": "stderr",
          "text": [
            "WARNING:absl:Found untraced functions such as lstm_cell_4_layer_call_fn, lstm_cell_4_layer_call_and_return_conditional_losses, lstm_cell_5_layer_call_fn, lstm_cell_5_layer_call_and_return_conditional_losses while saving (showing 4 of 4). These functions will not be directly callable after loading.\n"
          ]
        },
        {
          "output_type": "stream",
          "name": "stdout",
          "text": [
            "INFO:tensorflow:Assets written to: /content/mydrive/SentimentAnalysis/models/3/assets\n"
          ]
        },
        {
          "output_type": "stream",
          "name": "stderr",
          "text": [
            "INFO:tensorflow:Assets written to: /content/mydrive/SentimentAnalysis/models/3/assets\n",
            "WARNING:absl:<keras.layers.recurrent.LSTMCell object at 0x7feb21f6f590> has the same name 'LSTMCell' as a built-in Keras object. Consider renaming <class 'keras.layers.recurrent.LSTMCell'> to avoid naming conflicts when loading with `tf.keras.models.load_model`. If renaming is not possible, pass the object in the `custom_objects` parameter of the load function.\n",
            "WARNING:absl:<keras.layers.recurrent.LSTMCell object at 0x7feb9a37dc50> has the same name 'LSTMCell' as a built-in Keras object. Consider renaming <class 'keras.layers.recurrent.LSTMCell'> to avoid naming conflicts when loading with `tf.keras.models.load_model`. If renaming is not possible, pass the object in the `custom_objects` parameter of the load function.\n"
          ]
        },
        {
          "output_type": "stream",
          "name": "stdout",
          "text": [
            "2/2 [==============================] - 1s 13ms/step - loss: 0.6290 - accuracy: 0.7891\n"
          ]
        }
      ],
      "source": [
        "model = LSTM.LSTM(config_main.CFG)\n",
        "model.create_train_pipeline(train_data_df)\n",
        "model.data_vectorization(config_main.CFG['model']['data_vectorization']['max_features'], \n",
        "                         config_main.CFG['model']['data_vectorization']['max_len'])\n",
        "\n",
        "model.build_model()\n",
        "model.train()\n",
        "\n",
        "model.create_test_pipeline(test_data_df)\n",
        "model.test()"
      ]
    }
  ],
  "metadata": {
    "accelerator": "GPU",
    "colab": {
      "collapsed_sections": [],
      "name": "SentimentAnalysis.ipynb",
      "provenance": []
    },
    "kernelspec": {
      "display_name": "Python 3",
      "name": "python3"
    },
    "language_info": {
      "name": "python"
    }
  },
  "nbformat": 4,
  "nbformat_minor": 0
}