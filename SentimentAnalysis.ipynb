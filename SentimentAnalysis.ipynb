{
  "cells": [
    {
      "cell_type": "code",
      "execution_count": null,
      "metadata": {
        "id": "PDKbNnWRw0uO"
      },
      "outputs": [],
      "source": [
        "#References\n",
        "#https://towardsdatascience.com/another-twitter-sentiment-analysis-bb5b01ebad90\n",
        "#https://pasaentuciudad.com.mx/data-to-model-to-api-an-end-to-end-approach/\n",
        "#https://github.com/The-AI-Summer/Deep-Learning-In-Production/tree/master/2.%20Writing%20Deep%20Learning%20code:%20Best%20Practises"
      ]
    },
    {
      "cell_type": "markdown",
      "metadata": {
        "id": "8H-02yf-xC7x"
      },
      "source": [
        "# Install and import the necessary dependencies"
      ]
    },
    {
      "cell_type": "code",
      "execution_count": null,
      "metadata": {
        "id": "j7r9V2T_w-Rl"
      },
      "outputs": [],
      "source": [
        "\n",
        "from google.colab import drive\n",
        "\n",
        "#This will prompt for authorization.\n",
        "drive.mount('/content/drive')\n",
        "\n",
        "#Create a symbolic link, in order no to be able to save weights on drive. Otherwise it gives an error. \n",
        "!ln -s /content/drive/My\\ Drive /content/mydrive\n",
        "\n",
        "\n",
        "#Install requirements\n",
        "%cd mydrive/SentimentAnalysis\n",
        "!pip install -r requirements.txt \n",
        "\n",
        "import os\n",
        "import sys\n",
        "import pandas as pd\n",
        "\n",
        "sys.path.insert(0,'/content/mydrive/SentimentAnalysis/src/utils')\n",
        "import Config, visualization\n",
        "\n",
        "sys.path.insert(0,'/content/mydrive/SentimentAnalysis/src/data')\n",
        "import dataloader, datacleaner\n",
        "\n",
        "sys.path.insert(0,'/content/mydrive/SentimentAnalysis/src/models/')\n",
        "import BaseModel,LSTM\n",
        "\n",
        "sys.path.insert(0,'/content/mydrive/SentimentAnalysis/configs')\n",
        "import config_main\n"
      ]
    },
    {
      "cell_type": "markdown",
      "metadata": {
        "id": "oDhp8yPlxQTW"
      },
      "source": [
        "# Load data"
      ]
    },
    {
      "cell_type": "code",
      "execution_count": 4,
      "metadata": {
        "colab": {
          "base_uri": "https://localhost:8080/"
        },
        "id": "hefMqAF-Phsa",
        "outputId": "009071ed-9786-4c3c-8545-d6aca808be74"
      },
      "outputs": [
        {
          "output_type": "stream",
          "name": "stdout",
          "text": [
            "Directory already existed :  /content/mydrive/SentimentAnalysis/datasets/Sentiment140\n",
            "Reading training data...\n",
            "Reading testing data...\n",
            "<class 'pandas.core.frame.DataFrame'>\n",
            "RangeIndex: 1600000 entries, 0 to 1599999\n",
            "Data columns (total 2 columns):\n",
            " #   Column     Non-Null Count    Dtype \n",
            "---  ------     --------------    ----- \n",
            " 0   sentiment  1600000 non-null  int64 \n",
            " 1   tweet      1600000 non-null  object\n",
            "dtypes: int64(1), object(1)\n",
            "memory usage: 24.4+ MB\n",
            "None\n"
          ]
        }
      ],
      "source": [
        "input_path = os.path.join(config_main.CFG['data']['base_path'], \n",
        "                          config_main.CFG['data']['name'])\n",
        "\n",
        "#Download and unzip dataset\n",
        "if not (os.path.isfile(config_main.CFG['data']['url'].split('/')[-1])):\n",
        "  dataloader.download_dataset_from_url(config_main.CFG['data']['url'])\n",
        "dataloader.unzip_data_to_folder(input_path, config_main.CFG['data']['url'].split('/')[-1])\n",
        "\n",
        "#Read unzipped data\n",
        "print(\"Reading training data...\")\n",
        "train_data_df = pd.read_csv(os.path.join(input_path, 'training.1600000.processed.noemoticon.csv'),  \n",
        "                            encoding='latin-1', usecols=[0,5], names=['sentiment','tweet'])\n",
        "\n",
        "print(\"Reading testing data...\")\n",
        "test_data_df = pd.read_csv(os.path.join(input_path, 'testdata.manual.2009.06.14.csv'),  \n",
        "                           encoding='latin-1', usecols=[0,5], names=['sentiment','tweet'])\n",
        "\n",
        "#Print dataset info\n",
        "print(train_data_df.info())\n"
      ]
    },
    {
      "cell_type": "markdown",
      "metadata": {
        "id": "PMcYrpxB3u_7"
      },
      "source": [
        "# Preprocess data"
      ]
    },
    {
      "cell_type": "code",
      "execution_count": 5,
      "metadata": {
        "colab": {
          "base_uri": "https://localhost:8080/"
        },
        "id": "WwxW9HXv-pkL",
        "outputId": "09bbab18-c146-405d-9d09-f12717b2fd10"
      },
      "outputs": [
        {
          "output_type": "stream",
          "name": "stdout",
          "text": [
            "Cleaning and parsing the tweets from training data...\n",
            "Finished!\n",
            "\n",
            "Sentiment values: \n",
            "0    100000\n",
            "Name: sentiment, dtype: int64\n",
            "   sentiment                                              tweet\n",
            "0          0  that is bummer you should got david carr of th...\n",
            "1          0  is upset that he cannot update his facebook by...\n",
            "2          0  dived many times for the ball managed to save ...\n",
            "3          0     my whole body feels itchy and like its on fire\n",
            "4          0  no it is not behaving at all am mad why am her...\n",
            "\n",
            "Cleaning and parsing the tweets from testing data...\n",
            "Finished!\n",
            "\n",
            "1    0.506964\n",
            "0    0.493036\n",
            "Name: sentiment, dtype: float64\n"
          ]
        },
        {
          "output_type": "stream",
          "name": "stderr",
          "text": [
            "/usr/local/lib/python3.7/dist-packages/pandas/core/generic.py:5516: SettingWithCopyWarning: \n",
            "A value is trying to be set on a copy of a slice from a DataFrame.\n",
            "Try using .loc[row_indexer,col_indexer] = value instead\n",
            "\n",
            "See the caveats in the documentation: https://pandas.pydata.org/pandas-docs/stable/user_guide/indexing.html#returning-a-view-versus-a-copy\n",
            "  self[name] = value\n"
          ]
        }
      ],
      "source": [
        "# Preprocessing tweets data\n",
        "print(\"Cleaning and parsing the tweets from training data...\")\n",
        "train_data_df = train_data_df.iloc[0:100000] #TO-DO: Remove\n",
        "train_data_df.tweet = train_data_df.tweet.apply(datacleaner.preprocess_tweet)\n",
        "print(\"Finished!\\n\")\n",
        "\n",
        "# Preprocessing labels to have classes 0 and 1\n",
        "train_data_df.sentiment = train_data_df.sentiment.apply(lambda value: 1 if value==4 \n",
        "                                                        else value)\n",
        "\n",
        "print(\"Sentiment values: \")\n",
        "print(train_data_df.sentiment.value_counts())\n",
        "\n",
        "print(train_data_df.head(5))\n",
        "\n",
        "\n",
        "# Preprocessing tweets data\n",
        "print(\"\\nCleaning and parsing the tweets from testing data...\")\n",
        "test_data_df = test_data_df.iloc[0:5000] #TO-DO: Remove\n",
        "test_data_df.tweet = test_data_df.tweet.apply(datacleaner.preprocess_tweet)\n",
        "print(\"Finished!\\n\")\n",
        "\n",
        "test_data_df = test_data_df[test_data_df.sentiment!=2] #Remove intermediate polarities\n",
        "test_data_df.sentiment.value_counts()/test_data_df.shape[0]\n",
        "\n",
        "test_data_df.sentiment = test_data_df.sentiment.apply(lambda value: 1 if value==4 else value)\n",
        "\n",
        "print(test_data_df.sentiment.value_counts()/test_data_df.shape[0])\n",
        "\n",
        "\n",
        "# Preprocessing labels to have classes 0 and 1\n",
        "test_data_df.sentiment = test_data_df.sentiment.apply(lambda value: 1 if value==4 else value)\n"
      ]
    },
    {
      "cell_type": "markdown",
      "metadata": {
        "id": "jUoDy_SLa3WD"
      },
      "source": [
        "# Analyze data\n",
        "Estimating the vocabulary size and the vector sequence length to be fed to the model every instance is a crucial step for a good model.\n",
        "\n",
        "This is achieved by analyzing the training dataset, by plotting the \n",
        "distribution of tweet lengths across the training data.\n",
        "\n",
        "The label distribution is also visualized to check whether the training dataset is imbalanced."
      ]
    },
    {
      "cell_type": "code",
      "source": [
        "visualization.visualize_tweet_length(train_data_df)\n",
        "visualization.visualize_label_distribution(train_data_df)\n"
      ],
      "metadata": {
        "colab": {
          "base_uri": "https://localhost:8080/",
          "height": 424
        },
        "id": "G6HzdQq5Gt2V",
        "outputId": "4f78a662-3511-4f5e-a418-ce42d63c0cef"
      },
      "execution_count": null,
      "outputs": [
        {
          "output_type": "stream",
          "name": "stdout",
          "text": [
            "Total Unique Words: 1536\n",
            "[nltk_data] Downloading package stopwords to /root/nltk_data...\n",
            "[nltk_data]   Unzipping corpora/stopwords.zip.\n",
            "Total words 4897\n",
            "Total stop words 1836\n",
            "Ratio of total words to total stop words: 2.667211328976035\n"
          ]
        },
        {
          "output_type": "stream",
          "name": "stderr",
          "text": [
            "/usr/local/lib/python3.7/dist-packages/seaborn/distributions.py:2619: FutureWarning: `distplot` is a deprecated function and will be removed in a future version. Please adapt your code to use either `displot` (a figure-level function with similar flexibility) or `histplot` (an axes-level function for histograms).\n",
            "  warnings.warn(msg, FutureWarning)\n"
          ]
        },
        {
          "output_type": "display_data",
          "data": {
            "text/plain": [
              "<Figure size 432x288 with 1 Axes>"
            ],
            "image/png": "[encoded data removed]"
          },
          "metadata": {
            "needs_background": "light"
          }
        }
      ]
    },
    {
      "cell_type": "markdown",
      "metadata": {
        "id": "rspb76kIluXY"
      },
      "source": [
        "# Train, save/serialize and evaluate the model\n"
      ]
    },
    {
      "cell_type": "code",
      "source": [
        "from importlib import reload  # Py3 only; unneeded in py2.\n",
        "foo = reload(visualization)"
      ],
      "metadata": {
        "id": "ANbAk-viSLEy"
      },
      "execution_count": 22,
      "outputs": []
    },
    {
      "cell_type": "code",
      "execution_count": null,
      "metadata": {
        "colab": {
          "base_uri": "https://localhost:8080/",
          "height": 1000
        },
        "id": "HG3NE-k2EPrf",
        "outputId": "03283d06-97bb-4c18-bd09-68f6cc2d3d92"
      },
      "outputs": [
        {
          "output_type": "stream",
          "name": "stdout",
          "text": [
            "[1]\n",
            "Model: \"model_4\"\n",
            "_________________________________________________________________\n",
            " Layer (type)                Output Shape              Param #   \n",
            "=================================================================\n",
            " input_5 (InputLayer)        [(None, 1)]               0         \n",
            "                                                                 \n",
            " text_vectorization_4 (TextV  (None, 50)               0         \n",
            " ectorization)                                                   \n",
            "                                                                 \n",
            " embedding_4 (Embedding)     (None, 50, 128)           9600128   \n",
            "                                                                 \n",
            " LSTM_1 (LSTM)               (None, 50, 256)           394240    \n",
            "                                                                 \n",
            " LSTM_2 (LSTM)               (None, 256)               525312    \n",
            "                                                                 \n",
            " dropout_4 (Dropout)         (None, 256)               0         \n",
            "                                                                 \n",
            " dense_8 (Dense)             (None, 64)                16448     \n",
            "                                                                 \n",
            " dense_9 (Dense)             (None, 1)                 65        \n",
            "                                                                 \n",
            "=================================================================\n",
            "Total params: 10,536,193\n",
            "Trainable params: 10,536,193\n",
            "Non-trainable params: 0\n",
            "_________________________________________________________________\n",
            "None\n",
            "Epoch 1/20\n",
            "1250/1250 [==============================] - ETA: 0s - loss: 0.4534 - accuracy: 0.7784"
          ]
        },
        {
          "output_type": "stream",
          "name": "stderr",
          "text": [
            "WARNING:absl:Found untraced functions such as lstm_cell_12_layer_call_fn, lstm_cell_12_layer_call_and_return_conditional_losses, lstm_cell_13_layer_call_fn, lstm_cell_13_layer_call_and_return_conditional_losses while saving (showing 4 of 4). These functions will not be directly callable after loading.\n"
          ]
        },
        {
          "output_type": "stream",
          "name": "stdout",
          "text": [
            "INFO:tensorflow:Assets written to: /content/mydrive/SentimentAnalysis/models/best_model.ckpt/assets\n"
          ]
        },
        {
          "output_type": "stream",
          "name": "stderr",
          "text": [
            "INFO:tensorflow:Assets written to: /content/mydrive/SentimentAnalysis/models/best_model.ckpt/assets\n",
            "WARNING:absl:<keras.layers.recurrent.LSTMCell object at 0x7f1d683cea90> has the same name 'LSTMCell' as a built-in Keras object. Consider renaming <class 'keras.layers.recurrent.LSTMCell'> to avoid naming conflicts when loading with `tf.keras.models.load_model`. If renaming is not possible, pass the object in the `custom_objects` parameter of the load function.\n",
            "WARNING:absl:<keras.layers.recurrent.LSTMCell object at 0x7f1dbc10d950> has the same name 'LSTMCell' as a built-in Keras object. Consider renaming <class 'keras.layers.recurrent.LSTMCell'> to avoid naming conflicts when loading with `tf.keras.models.load_model`. If renaming is not possible, pass the object in the `custom_objects` parameter of the load function.\n"
          ]
        },
        {
          "output_type": "stream",
          "name": "stdout",
          "text": [
            "\b\b\b\b\b\b\b\b\b\b\b\b\b\b\b\b\b\b\b\b\b\b\b\b\b\b\b\b\b\b\b\b\b\b\b\b\b\b\b\b\b\b\b\b\b\b\b\b\b\b\b\b\b\b\b\b\b\b\b\b\b\b\b\b\b\b\b\b\b\b\b\b\b\b\b\b\b\b\b\b\b\b\b\b\b\b\r1250/1250 [==============================] - 127s 99ms/step - loss: 0.4534 - accuracy: 0.7784 - val_loss: 0.4035 - val_accuracy: 0.8161 - lr: 0.0010\n",
            "Epoch 2/20\n",
            "1250/1250 [==============================] - 109s 87ms/step - loss: 0.3823 - accuracy: 0.8284 - val_loss: 0.4069 - val_accuracy: 0.8183 - lr: 0.0010\n",
            "Epoch 3/20\n",
            "1250/1250 [==============================] - 109s 87ms/step - loss: 0.3541 - accuracy: 0.8432 - val_loss: 0.4190 - val_accuracy: 0.8160 - lr: 0.0010\n",
            "Epoch 4/20\n",
            "1250/1250 [==============================] - 109s 87ms/step - loss: 0.3188 - accuracy: 0.8614 - val_loss: 0.4470 - val_accuracy: 0.8115 - lr: 0.0010\n",
            "Epoch 5/20\n",
            "1250/1250 [==============================] - 109s 87ms/step - loss: 0.2844 - accuracy: 0.8778 - val_loss: 0.5258 - val_accuracy: 0.8011 - lr: 0.0010\n",
            "Epoch 6/20\n",
            "1250/1250 [==============================] - 109s 87ms/step - loss: 0.2581 - accuracy: 0.8900 - val_loss: 0.6130 - val_accuracy: 0.8018 - lr: 0.0010\n",
            "Plotting the loss and accuracy graphs...\n"
          ]
        },
        {
          "output_type": "display_data",
          "data": {
            "text/plain": [
              "<Figure size 432x288 with 1 Axes>"
            ],
            "image/png": "[encoded data removed]"
          },
          "metadata": {
            "needs_background": "light"
          }
        },
        {
          "output_type": "display_data",
          "data": {
            "text/plain": [
              "<Figure size 432x288 with 1 Axes>"
            ],
            "image/png": "[encoded data removed]"
          },
          "metadata": {
            "needs_background": "light"
          }
        },
        {
          "output_type": "stream",
          "name": "stdout",
          "text": [
            "export_path = /content/mydrive/SentimentAnalysis/models/lstm_model\n",
            "\n"
          ]
        },
        {
          "output_type": "stream",
          "name": "stderr",
          "text": [
            "WARNING:absl:Found untraced functions such as lstm_cell_12_layer_call_fn, lstm_cell_12_layer_call_and_return_conditional_losses, lstm_cell_13_layer_call_fn, lstm_cell_13_layer_call_and_return_conditional_losses while saving (showing 4 of 4). These functions will not be directly callable after loading.\n"
          ]
        },
        {
          "output_type": "stream",
          "name": "stdout",
          "text": [
            "INFO:tensorflow:Assets written to: /content/mydrive/SentimentAnalysis/models/lstm_model/assets\n"
          ]
        },
        {
          "output_type": "stream",
          "name": "stderr",
          "text": [
            "INFO:tensorflow:Assets written to: /content/mydrive/SentimentAnalysis/models/lstm_model/assets\n",
            "WARNING:absl:<keras.layers.recurrent.LSTMCell object at 0x7f1d683cea90> has the same name 'LSTMCell' as a built-in Keras object. Consider renaming <class 'keras.layers.recurrent.LSTMCell'> to avoid naming conflicts when loading with `tf.keras.models.load_model`. If renaming is not possible, pass the object in the `custom_objects` parameter of the load function.\n",
            "WARNING:absl:<keras.layers.recurrent.LSTMCell object at 0x7f1dbc10d950> has the same name 'LSTMCell' as a built-in Keras object. Consider renaming <class 'keras.layers.recurrent.LSTMCell'> to avoid naming conflicts when loading with `tf.keras.models.load_model`. If renaming is not possible, pass the object in the `custom_objects` parameter of the load function.\n"
          ]
        },
        {
          "output_type": "stream",
          "name": "stdout",
          "text": [
            "2/2 [==============================] - 1s 18ms/step - loss: 0.8198 - accuracy: 0.7734\n"
          ]
        }
      ],
      "source": [
        "model = LSTM.LSTM(config_main.CFG)\n",
        "model.create_train_pipeline(train_data_df)\n",
        "model.data_vectorization(config_main.CFG['model']['data_vectorization']['max_features'], \n",
        "                         config_main.CFG['model']['data_vectorization']['max_len'])\n",
        "\n",
        "model.build_model()\n",
        "model.train()\n",
        "\n",
        "model.create_test_pipeline(test_data_df)\n",
        "model.test()"
      ]
    }
  ],
  "metadata": {
    "accelerator": "GPU",
    "colab": {
      "collapsed_sections": [],
      "name": "SentimentAnalysis.ipynb",
      "provenance": []
    },
    "kernelspec": {
      "display_name": "Python 3",
      "name": "python3"
    },
    "language_info": {
      "name": "python"
    }
  },
  "nbformat": 4,
  "nbformat_minor": 0
}