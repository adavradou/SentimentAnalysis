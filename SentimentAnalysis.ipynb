{
  "cells": [
    {
      "cell_type": "markdown",
      "source": [
        "# Helpful references:\n",
        "\n",
        "Model structure: https://www.tensorflow.org/text/tutorials/text_classification_rnn\n",
        "\n",
        "Project structure: https://github.com/The-AI-Summer/Deep-Learning-In-Production/tree/master/2.%20Writing%20Deep%20Learning%20code:%20Best%20Practises\n",
        "\n",
        "Transforming Categorical Data: https://developers.google.com/machine-learning/data-prep/transform/transform-categorical"
      ],
      "metadata": {
        "id": "QtrAIZ9Q92dR"
      }
    },
    {
      "cell_type": "markdown",
      "metadata": {
        "id": "8H-02yf-xC7x"
      },
      "source": [
        "# Install and import the necessary dependencies"
      ]
    },
    {
      "cell_type": "code",
      "execution_count": null,
      "metadata": {
        "colab": {
          "base_uri": "https://localhost:8080/"
        },
        "id": "j7r9V2T_w-Rl",
        "outputId": "01af79bb-6e7b-4d66-b899-2c2f081252e8"
      },
      "outputs": [
        {
          "output_type": "stream",
          "name": "stdout",
          "text": [
            "Mounted at /content/drive\n",
            "/content/drive/My Drive/SentimentAnalysis\n",
            "Collecting wordninja==2.0.0\n",
            "  Downloading wordninja-2.0.0.tar.gz (541 kB)\n",
            "\u001b[K     |████████████████████████████████| 541 kB 9.6 MB/s \n",
            "\u001b[?25hCollecting contractions==0.0.58\n",
            "  Downloading contractions-0.0.58-py2.py3-none-any.whl (8.0 kB)\n",
            "Collecting emoji==1.6.0\n",
            "  Downloading emoji-1.6.0.tar.gz (168 kB)\n",
            "\u001b[K     |████████████████████████████████| 168 kB 67.1 MB/s \n",
            "\u001b[?25hCollecting wget==3.2\n",
            "  Downloading wget-3.2.zip (10 kB)\n",
            "Collecting textsearch>=0.0.21\n",
            "  Downloading textsearch-0.0.21-py2.py3-none-any.whl (7.5 kB)\n",
            "Collecting pyahocorasick\n",
            "  Downloading pyahocorasick-1.4.4-cp37-cp37m-manylinux_2_17_x86_64.manylinux2014_x86_64.whl (106 kB)\n",
            "\u001b[K     |████████████████████████████████| 106 kB 55.9 MB/s \n",
            "\u001b[?25hCollecting anyascii\n",
            "  Downloading anyascii-0.3.1-py3-none-any.whl (287 kB)\n",
            "\u001b[K     |████████████████████████████████| 287 kB 47.9 MB/s \n",
            "\u001b[?25hBuilding wheels for collected packages: wordninja, emoji, wget\n",
            "  Building wheel for wordninja (setup.py) ... \u001b[?25l\u001b[?25hdone\n",
            "  Created wheel for wordninja: filename=wordninja-2.0.0-py3-none-any.whl size=541551 sha256=b57d3c925ff19f3a290b0397bb3dc64c9496e25a2fb975bf356afafa4a16d344\n",
            "  Stored in directory: /root/.cache/pip/wheels/dd/3f/eb/a2692e3d2b9deb1487b09ba4967dd6920bd5032bfd9ff7acfc\n",
            "  Building wheel for emoji (setup.py) ... \u001b[?25l\u001b[?25hdone\n",
            "  Created wheel for emoji: filename=emoji-1.6.0-py3-none-any.whl size=168256 sha256=100bce2d782b4792289b9f94d4c9161d781c4b9066177a0edb2b413567eb77b7\n",
            "  Stored in directory: /root/.cache/pip/wheels/f7/d7/74/c720aaf345a042b0c2d74361873258c5e8649b7f11b2ccce49\n",
            "  Building wheel for wget (setup.py) ... \u001b[?25l\u001b[?25hdone\n",
            "  Created wheel for wget: filename=wget-3.2-py3-none-any.whl size=9675 sha256=dc8f806e25a332b29b2014b4641f542992a6d31ea798d4b7039673e9ade51d17\n",
            "  Stored in directory: /root/.cache/pip/wheels/a1/b6/7c/0e63e34eb06634181c63adacca38b79ff8f35c37e3c13e3c02\n",
            "Successfully built wordninja emoji wget\n",
            "Installing collected packages: pyahocorasick, anyascii, textsearch, wordninja, wget, emoji, contractions\n",
            "Successfully installed anyascii-0.3.1 contractions-0.0.58 emoji-1.6.0 pyahocorasick-1.4.4 textsearch-0.0.21 wget-3.2 wordninja-2.0.0\n"
          ]
        }
      ],
      "source": [
        "\n",
        "from google.colab import drive\n",
        "\n",
        "#This will prompt for authorization.\n",
        "drive.mount('/content/drive')\n",
        "\n",
        "#Create a symbolic link, in order no to be able to save weights on drive. \n",
        "!ln -s /content/drive/My\\ Drive /content/mydrive\n",
        "\n",
        "\n",
        "#Install requirements\n",
        "%cd mydrive/SentimentAnalysis\n",
        "!pip install -r requirements.txt \n",
        "\n",
        "import os\n",
        "import sys\n",
        "import pandas as pd\n",
        "\n",
        "sys.path.insert(0,'/content/mydrive/SentimentAnalysis/src/utils')\n",
        "import Config, visualization\n",
        "\n",
        "sys.path.insert(0,'/content/mydrive/SentimentAnalysis/src/data')\n",
        "import dataloader, datacleaner\n",
        "\n",
        "sys.path.insert(0,'/content/mydrive/SentimentAnalysis/src/models/')\n",
        "import BaseModel,LSTM\n",
        "\n",
        "sys.path.insert(0,'/content/mydrive/SentimentAnalysis/configs')\n",
        "import config_main\n"
      ]
    },
    {
      "cell_type": "markdown",
      "metadata": {
        "id": "oDhp8yPlxQTW"
      },
      "source": [
        "# Load data"
      ]
    },
    {
      "cell_type": "code",
      "execution_count": null,
      "metadata": {
        "colab": {
          "base_uri": "https://localhost:8080/"
        },
        "id": "hefMqAF-Phsa",
        "outputId": "37c151cb-79f8-461f-e55f-105d02654041"
      },
      "outputs": [
        {
          "output_type": "stream",
          "name": "stdout",
          "text": [
            "Directory already existed :  /content/mydrive/SentimentAnalysis/datasets/Sentiment140\n",
            "Reading training data...\n",
            "Reading testing data...\n",
            "<class 'pandas.core.frame.DataFrame'>\n",
            "RangeIndex: 1600000 entries, 0 to 1599999\n",
            "Data columns (total 2 columns):\n",
            " #   Column     Non-Null Count    Dtype \n",
            "---  ------     --------------    ----- \n",
            " 0   sentiment  1600000 non-null  int64 \n",
            " 1   tweet      1600000 non-null  object\n",
            "dtypes: int64(1), object(1)\n",
            "memory usage: 24.4+ MB\n",
            "None\n"
          ]
        }
      ],
      "source": [
        "input_path = os.path.join(config_main.CFG['data']['base_path'], \n",
        "                          config_main.CFG['data']['name'])\n",
        "\n",
        "#Download and unzip dataset\n",
        "if not (os.path.isfile(config_main.CFG['data']['url'].split('/')[-1])):\n",
        "  dataloader.download_dataset_from_url(config_main.CFG['data']['url'])\n",
        "dataloader.unzip_data_to_folder(input_path, config_main.CFG['data']['url'].split('/')[-1])\n",
        "\n",
        "#Read unzipped data\n",
        "print(\"Reading training data...\")\n",
        "train_data_df = pd.read_csv(os.path.join(input_path, 'training.1600000.processed.noemoticon.csv'),  \n",
        "                            encoding='latin-1', usecols=[0,5], names=['sentiment','tweet'])\n",
        "\n",
        "print(\"Reading testing data...\")\n",
        "test_data_df = pd.read_csv(os.path.join(input_path, 'testdata.manual.2009.06.14.csv'),  \n",
        "                           encoding='latin-1', usecols=[0,5], names=['sentiment','tweet'])\n",
        "\n",
        "#Print dataset info\n",
        "print(train_data_df.info())\n"
      ]
    },
    {
      "cell_type": "markdown",
      "metadata": {
        "id": "PMcYrpxB3u_7"
      },
      "source": [
        "# Preprocess data"
      ]
    },
    {
      "cell_type": "code",
      "execution_count": null,
      "metadata": {
        "colab": {
          "base_uri": "https://localhost:8080/"
        },
        "id": "WwxW9HXv-pkL",
        "outputId": "e7b081a3-e2d9-40ea-9888-de6cc49e29a5"
      },
      "outputs": [
        {
          "output_type": "stream",
          "name": "stdout",
          "text": [
            "Cleaning and parsing the tweets from training data...\n",
            "Finished!\n",
            "\n",
            "Sentiment values: \n",
            "0    800000\n",
            "1    800000\n",
            "Name: sentiment, dtype: int64\n",
            "   sentiment                                              tweet\n",
            "0          0  that is bummer you should got david carr of th...\n",
            "1          0  is upset that he cannot update his facebook by...\n",
            "2          0  dived many times for the ball managed to save ...\n",
            "3          0     my whole body feels itchy and like its on fire\n",
            "4          0  no it is not behaving at all am mad why am her...\n",
            "\n",
            "Cleaning and parsing the tweets from testing data...\n",
            "Finished!\n",
            "\n",
            "1    0.506964\n",
            "0    0.493036\n",
            "Name: sentiment, dtype: float64\n"
          ]
        },
        {
          "output_type": "stream",
          "name": "stderr",
          "text": [
            "/usr/local/lib/python3.7/dist-packages/pandas/core/generic.py:5516: SettingWithCopyWarning: \n",
            "A value is trying to be set on a copy of a slice from a DataFrame.\n",
            "Try using .loc[row_indexer,col_indexer] = value instead\n",
            "\n",
            "See the caveats in the documentation: https://pandas.pydata.org/pandas-docs/stable/user_guide/indexing.html#returning-a-view-versus-a-copy\n",
            "  self[name] = value\n"
          ]
        }
      ],
      "source": [
        "# Preprocessing tweets data\n",
        "print(\"Cleaning and parsing the tweets from training data...\")\n",
        "# train_data_df = train_data_df.iloc[500000:1000000] #Uncomment to train on a smaller dataset\n",
        "train_data_df.tweet = train_data_df.tweet.apply(datacleaner.preprocess_tweet)\n",
        "print(\"Finished!\\n\")\n",
        "\n",
        "# Preprocessing labels to have classes 0 and 1\n",
        "train_data_df.sentiment = train_data_df.sentiment.apply(lambda value: 1 if value==4 \n",
        "                                                        else value)\n",
        "\n",
        "print(\"Sentiment values: \")\n",
        "print(train_data_df.sentiment.value_counts())\n",
        "\n",
        "print(train_data_df.head(5))\n",
        "\n",
        "\n",
        "# Preprocessing tweets data\n",
        "print(\"\\nCleaning and parsing the tweets from testing data...\")\n",
        "# test_data_df = test_data_df.iloc[0:5000] #Uncomment to test on a smaller dataset\n",
        "test_data_df.tweet = test_data_df.tweet.apply(datacleaner.preprocess_tweet)\n",
        "print(\"Finished!\\n\")\n",
        "\n",
        "test_data_df = test_data_df[test_data_df.sentiment!=2] #Remove intermediate polarities\n",
        "test_data_df.sentiment.value_counts()/test_data_df.shape[0]\n",
        "\n",
        "test_data_df.sentiment = test_data_df.sentiment.apply(lambda value: 1 if value==4 else value)\n",
        "\n",
        "print(test_data_df.sentiment.value_counts()/test_data_df.shape[0])\n",
        "\n",
        "\n",
        "# Preprocessing labels to have classes 0 and 1\n",
        "test_data_df.sentiment = test_data_df.sentiment.apply(lambda value: 1 if value==4 else value)\n"
      ]
    },
    {
      "cell_type": "markdown",
      "metadata": {
        "id": "jUoDy_SLa3WD"
      },
      "source": [
        "# Analyze data\n",
        "Estimating the vocabulary size and the vector sequence length to be fed to the model every instance is a crucial step for a good model.\n",
        "\n",
        "This is achieved by analyzing the training dataset, by plotting the \n",
        "distribution of tweet lengths across the training data.\n",
        "\n",
        "The label distribution is also visualized to check whether the training dataset is imbalanced."
      ]
    },
    {
      "cell_type": "code",
      "execution_count": null,
      "metadata": {
        "colab": {
          "base_uri": "https://localhost:8080/",
          "height": 813
        },
        "id": "G6HzdQq5Gt2V",
        "outputId": "2655ca80-dd00-4035-c46f-7bcd50653467"
      },
      "outputs": [
        {
          "name": "stderr",
          "output_type": "stream",
          "text": [
            "/usr/local/lib/python3.7/dist-packages/seaborn/distributions.py:2619: FutureWarning: `distplot` is a deprecated function and will be removed in a future version. Please adapt your code to use either `displot` (a figure-level function with similar flexibility) or `histplot` (an axes-level function for histograms).\n",
            "  warnings.warn(msg, FutureWarning)\n"
          ]
        },
        {
          "name": "stdout",
          "output_type": "stream",
          "text": [
            "Total Unique Words: 77635\n",
            "[nltk_data] Downloading package stopwords to /root/nltk_data...\n",
            "[nltk_data]   Unzipping corpora/stopwords.zip.\n",
            "Total words 19845610\n",
            "Total stop words 8547607\n",
            "Ratio of total words to total stop words: 2.321773801720177\n"
          ]
        },
        {
          "data": {
            "image/png": "[encoded data removed]",
            "text/plain": [
              "<Figure size 432x288 with 1 Axes>"
            ]
          },
          "metadata": {},
          "output_type": "display_data"
        },
        {
          "data": {
            "image/png": "[encoded data removed]",
            "text/plain": [
              "<Figure size 1152x576 with 1 Axes>"
            ]
          },
          "metadata": {},
          "output_type": "display_data"
        }
      ],
      "source": [
        "visualization.visualize_tweet_length(train_data_df)\n",
        "visualization.visualize_label_distribution(train_data_df)\n"
      ]
    },
    {
      "cell_type": "markdown",
      "metadata": {
        "id": "rspb76kIluXY"
      },
      "source": [
        "# Train, save/serialize and evaluate the model\n"
      ]
    },
    {
      "cell_type": "code",
      "execution_count": null,
      "metadata": {
        "colab": {
          "base_uri": "https://localhost:8080/",
          "height": 2364
        },
        "id": "HG3NE-k2EPrf",
        "outputId": "d5d7efda-8c59-4d9a-f839-05f000f945d1"
      },
      "outputs": [
        {
          "output_type": "stream",
          "name": "stdout",
          "text": [
            "WARNING:tensorflow:Layer lstm_1 will not use cuDNN kernels since it doesn't meet the criteria. It will use a generic GPU kernel as fallback when running on GPU.\n"
          ]
        },
        {
          "output_type": "stream",
          "name": "stderr",
          "text": [
            "WARNING:tensorflow:Layer lstm_1 will not use cuDNN kernels since it doesn't meet the criteria. It will use a generic GPU kernel as fallback when running on GPU.\n"
          ]
        },
        {
          "output_type": "stream",
          "name": "stdout",
          "text": [
            "WARNING:tensorflow:Layer lstm_1 will not use cuDNN kernels since it doesn't meet the criteria. It will use a generic GPU kernel as fallback when running on GPU.\n"
          ]
        },
        {
          "output_type": "stream",
          "name": "stderr",
          "text": [
            "WARNING:tensorflow:Layer lstm_1 will not use cuDNN kernels since it doesn't meet the criteria. It will use a generic GPU kernel as fallback when running on GPU.\n"
          ]
        },
        {
          "output_type": "stream",
          "name": "stdout",
          "text": [
            "WARNING:tensorflow:Layer lstm_1 will not use cuDNN kernels since it doesn't meet the criteria. It will use a generic GPU kernel as fallback when running on GPU.\n"
          ]
        },
        {
          "output_type": "stream",
          "name": "stderr",
          "text": [
            "WARNING:tensorflow:Layer lstm_1 will not use cuDNN kernels since it doesn't meet the criteria. It will use a generic GPU kernel as fallback when running on GPU.\n"
          ]
        },
        {
          "output_type": "stream",
          "name": "stdout",
          "text": [
            "Model: \"sequential_1\"\n",
            "_________________________________________________________________\n",
            " Layer (type)                Output Shape              Param #   \n",
            "=================================================================\n",
            " text_vectorization_1 (TextV  (None, 40)               0         \n",
            " ectorization)                                                   \n",
            "                                                                 \n",
            " embedding_1 (Embedding)     (None, 40, 64)            4525056   \n",
            "                                                                 \n",
            " dropout_2 (Dropout)         (None, 40, 64)            0         \n",
            "                                                                 \n",
            " bidirectional_1 (Bidirectio  (None, 128)              66048     \n",
            " nal)                                                            \n",
            "                                                                 \n",
            " dense_2 (Dense)             (None, 64)                8256      \n",
            "                                                                 \n",
            " dropout_3 (Dropout)         (None, 64)                0         \n",
            "                                                                 \n",
            " dense_3 (Dense)             (None, 1)                 65        \n",
            "                                                                 \n",
            "=================================================================\n",
            "Total params: 4,599,425\n",
            "Trainable params: 4,599,425\n",
            "Non-trainable params: 0\n",
            "_________________________________________________________________\n",
            "None\n",
            "Epoch 1/20\n",
            "1250/1250 [==============================] - ETA: 0s - loss: 0.5258 - accuracy: 0.7567INFO:tensorflow:Assets written to: /content/mydrive/SentimentAnalysis/models/best_model.ckpt/assets\n"
          ]
        },
        {
          "output_type": "stream",
          "name": "stderr",
          "text": [
            "INFO:tensorflow:Assets written to: /content/mydrive/SentimentAnalysis/models/best_model.ckpt/assets\n",
            "WARNING:absl:<keras.layers.recurrent.LSTMCell object at 0x7f7db65a27d0> has the same name 'LSTMCell' as a built-in Keras object. Consider renaming <class 'keras.layers.recurrent.LSTMCell'> to avoid naming conflicts when loading with `tf.keras.models.load_model`. If renaming is not possible, pass the object in the `custom_objects` parameter of the load function.\n",
            "WARNING:absl:<keras.layers.recurrent.LSTMCell object at 0x7f7db6584450> has the same name 'LSTMCell' as a built-in Keras object. Consider renaming <class 'keras.layers.recurrent.LSTMCell'> to avoid naming conflicts when loading with `tf.keras.models.load_model`. If renaming is not possible, pass the object in the `custom_objects` parameter of the load function.\n"
          ]
        },
        {
          "output_type": "stream",
          "name": "stdout",
          "text": [
            "\b\b\b\b\b\b\b\b\b\b\b\b\b\b\b\b\b\b\b\b\b\b\b\b\b\b\b\b\b\b\b\b\b\b\b\b\b\b\b\b\b\b\b\b\b\b\b\b\b\b\b\b\b\b\b\b\b\b\b\b\b\b\b\b\b\b\b\b\b\b\b\b\b\b\b\b\b\b\b\b\b\b\b\b\b\b\r1250/1250 [==============================] - 612s 486ms/step - loss: 0.5258 - accuracy: 0.7567 - val_loss: 0.6309 - val_accuracy: 0.6127 - lr: 0.0010\n",
            "Epoch 2/20\n",
            "1250/1250 [==============================] - ETA: 0s - loss: 0.5125 - accuracy: 0.7645INFO:tensorflow:Assets written to: /content/mydrive/SentimentAnalysis/models/best_model.ckpt/assets\n"
          ]
        },
        {
          "output_type": "stream",
          "name": "stderr",
          "text": [
            "INFO:tensorflow:Assets written to: /content/mydrive/SentimentAnalysis/models/best_model.ckpt/assets\n",
            "WARNING:absl:<keras.layers.recurrent.LSTMCell object at 0x7f7db65a27d0> has the same name 'LSTMCell' as a built-in Keras object. Consider renaming <class 'keras.layers.recurrent.LSTMCell'> to avoid naming conflicts when loading with `tf.keras.models.load_model`. If renaming is not possible, pass the object in the `custom_objects` parameter of the load function.\n",
            "WARNING:absl:<keras.layers.recurrent.LSTMCell object at 0x7f7db6584450> has the same name 'LSTMCell' as a built-in Keras object. Consider renaming <class 'keras.layers.recurrent.LSTMCell'> to avoid naming conflicts when loading with `tf.keras.models.load_model`. If renaming is not possible, pass the object in the `custom_objects` parameter of the load function.\n"
          ]
        },
        {
          "output_type": "stream",
          "name": "stdout",
          "text": [
            "\b\b\b\b\b\b\b\b\b\b\b\b\b\b\b\b\b\b\b\b\b\b\b\b\b\b\b\b\b\b\b\b\b\b\b\b\b\b\b\b\b\b\b\b\b\b\b\b\b\b\b\b\b\b\b\b\b\b\b\b\b\b\b\b\b\b\b\b\b\b\b\b\b\b\b\b\b\b\b\b\b\b\b\b\b\b\r1250/1250 [==============================] - 609s 487ms/step - loss: 0.5125 - accuracy: 0.7645 - val_loss: 0.4541 - val_accuracy: 0.7968 - lr: 0.0010\n",
            "Epoch 3/20\n",
            "1250/1250 [==============================] - 608s 487ms/step - loss: 0.5152 - accuracy: 0.7572 - val_loss: 0.4653 - val_accuracy: 0.7892 - lr: 0.0010\n",
            "Epoch 4/20\n",
            "1250/1250 [==============================] - ETA: 0s - loss: 0.5110 - accuracy: 0.7597INFO:tensorflow:Assets written to: /content/mydrive/SentimentAnalysis/models/best_model.ckpt/assets\n"
          ]
        },
        {
          "output_type": "stream",
          "name": "stderr",
          "text": [
            "INFO:tensorflow:Assets written to: /content/mydrive/SentimentAnalysis/models/best_model.ckpt/assets\n",
            "WARNING:absl:<keras.layers.recurrent.LSTMCell object at 0x7f7db65a27d0> has the same name 'LSTMCell' as a built-in Keras object. Consider renaming <class 'keras.layers.recurrent.LSTMCell'> to avoid naming conflicts when loading with `tf.keras.models.load_model`. If renaming is not possible, pass the object in the `custom_objects` parameter of the load function.\n",
            "WARNING:absl:<keras.layers.recurrent.LSTMCell object at 0x7f7db6584450> has the same name 'LSTMCell' as a built-in Keras object. Consider renaming <class 'keras.layers.recurrent.LSTMCell'> to avoid naming conflicts when loading with `tf.keras.models.load_model`. If renaming is not possible, pass the object in the `custom_objects` parameter of the load function.\n"
          ]
        },
        {
          "output_type": "stream",
          "name": "stdout",
          "text": [
            "\b\b\b\b\b\b\b\b\b\b\b\b\b\b\b\b\b\b\b\b\b\b\b\b\b\b\b\b\b\b\b\b\b\b\b\b\b\b\b\b\b\b\b\b\b\b\b\b\b\b\b\b\b\b\b\b\b\b\b\b\b\b\b\b\b\b\b\b\b\b\b\b\b\b\b\b\b\b\b\b\b\b\b\b\b\b\r1250/1250 [==============================] - 626s 501ms/step - loss: 0.5110 - accuracy: 0.7597 - val_loss: 0.4498 - val_accuracy: 0.8009 - lr: 0.0010\n",
            "Epoch 5/20\n",
            "1250/1250 [==============================] - 615s 492ms/step - loss: 0.4769 - accuracy: 0.7890 - val_loss: 0.4529 - val_accuracy: 0.8045 - lr: 0.0010\n",
            "Epoch 6/20\n",
            "1250/1250 [==============================] - 616s 493ms/step - loss: 0.4586 - accuracy: 0.8004 - val_loss: 0.4501 - val_accuracy: 0.8054 - lr: 0.0010\n",
            "Epoch 7/20\n",
            "1250/1250 [==============================] - ETA: 0s - loss: 0.4589 - accuracy: 0.7961INFO:tensorflow:Assets written to: /content/mydrive/SentimentAnalysis/models/best_model.ckpt/assets\n"
          ]
        },
        {
          "output_type": "stream",
          "name": "stderr",
          "text": [
            "INFO:tensorflow:Assets written to: /content/mydrive/SentimentAnalysis/models/best_model.ckpt/assets\n",
            "WARNING:absl:<keras.layers.recurrent.LSTMCell object at 0x7f7db65a27d0> has the same name 'LSTMCell' as a built-in Keras object. Consider renaming <class 'keras.layers.recurrent.LSTMCell'> to avoid naming conflicts when loading with `tf.keras.models.load_model`. If renaming is not possible, pass the object in the `custom_objects` parameter of the load function.\n",
            "WARNING:absl:<keras.layers.recurrent.LSTMCell object at 0x7f7db6584450> has the same name 'LSTMCell' as a built-in Keras object. Consider renaming <class 'keras.layers.recurrent.LSTMCell'> to avoid naming conflicts when loading with `tf.keras.models.load_model`. If renaming is not possible, pass the object in the `custom_objects` parameter of the load function.\n"
          ]
        },
        {
          "output_type": "stream",
          "name": "stdout",
          "text": [
            "\b\b\b\b\b\b\b\b\b\b\b\b\b\b\b\b\b\b\b\b\b\b\b\b\b\b\b\b\b\b\b\b\b\b\b\b\b\b\b\b\b\b\b\b\b\b\b\b\b\b\b\b\b\b\b\b\b\b\b\b\b\b\b\b\b\b\b\b\b\b\b\b\b\b\b\b\b\b\b\b\b\b\b\b\b\b\r1250/1250 [==============================] - 628s 502ms/step - loss: 0.4589 - accuracy: 0.7961 - val_loss: 0.4398 - val_accuracy: 0.8055 - lr: 0.0010\n",
            "Epoch 8/20\n",
            "1250/1250 [==============================] - 616s 493ms/step - loss: 0.4467 - accuracy: 0.8074 - val_loss: 0.4488 - val_accuracy: 0.8083 - lr: 0.0010\n",
            "Epoch 9/20\n",
            "1250/1250 [==============================] - 616s 493ms/step - loss: 0.4532 - accuracy: 0.8018 - val_loss: 0.4415 - val_accuracy: 0.8027 - lr: 0.0010\n",
            "Epoch 10/20\n",
            "1250/1250 [==============================] - ETA: 0s - loss: 0.4532 - accuracy: 0.8030INFO:tensorflow:Assets written to: /content/mydrive/SentimentAnalysis/models/best_model.ckpt/assets\n"
          ]
        },
        {
          "output_type": "stream",
          "name": "stderr",
          "text": [
            "INFO:tensorflow:Assets written to: /content/mydrive/SentimentAnalysis/models/best_model.ckpt/assets\n",
            "WARNING:absl:<keras.layers.recurrent.LSTMCell object at 0x7f7db65a27d0> has the same name 'LSTMCell' as a built-in Keras object. Consider renaming <class 'keras.layers.recurrent.LSTMCell'> to avoid naming conflicts when loading with `tf.keras.models.load_model`. If renaming is not possible, pass the object in the `custom_objects` parameter of the load function.\n",
            "WARNING:absl:<keras.layers.recurrent.LSTMCell object at 0x7f7db6584450> has the same name 'LSTMCell' as a built-in Keras object. Consider renaming <class 'keras.layers.recurrent.LSTMCell'> to avoid naming conflicts when loading with `tf.keras.models.load_model`. If renaming is not possible, pass the object in the `custom_objects` parameter of the load function.\n"
          ]
        },
        {
          "output_type": "stream",
          "name": "stdout",
          "text": [
            "\b\b\b\b\b\b\b\b\b\b\b\b\b\b\b\b\b\b\b\b\b\b\b\b\b\b\b\b\b\b\b\b\b\b\b\b\b\b\b\b\b\b\b\b\b\b\b\b\b\b\b\b\b\b\b\b\b\b\b\b\b\b\b\b\b\b\b\b\b\b\b\b\b\b\b\b\b\b\b\b\b\b\b\b\b\b\r1250/1250 [==============================] - 627s 501ms/step - loss: 0.4532 - accuracy: 0.8030 - val_loss: 0.4394 - val_accuracy: 0.8064 - lr: 0.0010\n",
            "Epoch 11/20\n",
            "1250/1250 [==============================] - ETA: 0s - loss: 0.4398 - accuracy: 0.8106INFO:tensorflow:Assets written to: /content/mydrive/SentimentAnalysis/models/best_model.ckpt/assets\n"
          ]
        },
        {
          "output_type": "stream",
          "name": "stderr",
          "text": [
            "INFO:tensorflow:Assets written to: /content/mydrive/SentimentAnalysis/models/best_model.ckpt/assets\n",
            "WARNING:absl:<keras.layers.recurrent.LSTMCell object at 0x7f7db65a27d0> has the same name 'LSTMCell' as a built-in Keras object. Consider renaming <class 'keras.layers.recurrent.LSTMCell'> to avoid naming conflicts when loading with `tf.keras.models.load_model`. If renaming is not possible, pass the object in the `custom_objects` parameter of the load function.\n",
            "WARNING:absl:<keras.layers.recurrent.LSTMCell object at 0x7f7db6584450> has the same name 'LSTMCell' as a built-in Keras object. Consider renaming <class 'keras.layers.recurrent.LSTMCell'> to avoid naming conflicts when loading with `tf.keras.models.load_model`. If renaming is not possible, pass the object in the `custom_objects` parameter of the load function.\n"
          ]
        },
        {
          "output_type": "stream",
          "name": "stdout",
          "text": [
            "\b\b\b\b\b\b\b\b\b\b\b\b\b\b\b\b\b\b\b\b\b\b\b\b\b\b\b\b\b\b\b\b\b\b\b\b\b\b\b\b\b\b\b\b\b\b\b\b\b\b\b\b\b\b\b\b\b\b\b\b\b\b\b\b\b\b\b\b\b\b\b\b\b\b\b\b\b\b\b\b\b\b\b\b\b\b\r1250/1250 [==============================] - 626s 500ms/step - loss: 0.4398 - accuracy: 0.8106 - val_loss: 0.4336 - val_accuracy: 0.8078 - lr: 0.0010\n",
            "Epoch 12/20\n",
            "1250/1250 [==============================] - 617s 494ms/step - loss: 0.4394 - accuracy: 0.8130 - val_loss: 0.4336 - val_accuracy: 0.8101 - lr: 0.0010\n",
            "Epoch 13/20\n",
            "1250/1250 [==============================] - 617s 493ms/step - loss: 0.4273 - accuracy: 0.8220 - val_loss: 0.4389 - val_accuracy: 0.8116 - lr: 0.0010\n",
            "Epoch 14/20\n",
            "1250/1250 [==============================] - 603s 482ms/step - loss: 0.4402 - accuracy: 0.8140 - val_loss: 0.4393 - val_accuracy: 0.8076 - lr: 0.0010\n",
            "Epoch 15/20\n",
            "1250/1250 [==============================] - 596s 477ms/step - loss: 0.4331 - accuracy: 0.8163 - val_loss: 0.4374 - val_accuracy: 0.8113 - lr: 0.0010\n",
            "Epoch 16/20\n",
            "1250/1250 [==============================] - 596s 477ms/step - loss: 0.4183 - accuracy: 0.8290 - val_loss: 0.4424 - val_accuracy: 0.8132 - lr: 0.0010\n",
            "Plotting the loss and accuracy graphs...\n"
          ]
        },
        {
          "output_type": "display_data",
          "data": {
            "text/plain": [
              "<Figure size 432x288 with 1 Axes>"
            ],
            "image/png": "[encoded data removed]"
          },
          "metadata": {
            "needs_background": "light"
          }
        },
        {
          "output_type": "display_data",
          "data": {
            "text/plain": [
              "<Figure size 432x288 with 1 Axes>"
            ],
            "image/png": "[encoded data removed]"
          },
          "metadata": {
            "needs_background": "light"
          }
        },
        {
          "output_type": "stream",
          "name": "stdout",
          "text": [
            "export_path = /content/mydrive/SentimentAnalysis/models/lstm_model_75000_40_2\n",
            "\n",
            "INFO:tensorflow:Assets written to: /content/mydrive/SentimentAnalysis/models/lstm_model_75000_40_2/assets\n"
          ]
        },
        {
          "output_type": "stream",
          "name": "stderr",
          "text": [
            "INFO:tensorflow:Assets written to: /content/mydrive/SentimentAnalysis/models/lstm_model_75000_40_2/assets\n",
            "WARNING:absl:<keras.layers.recurrent.LSTMCell object at 0x7f7db65a27d0> has the same name 'LSTMCell' as a built-in Keras object. Consider renaming <class 'keras.layers.recurrent.LSTMCell'> to avoid naming conflicts when loading with `tf.keras.models.load_model`. If renaming is not possible, pass the object in the `custom_objects` parameter of the load function.\n",
            "WARNING:absl:<keras.layers.recurrent.LSTMCell object at 0x7f7db6584450> has the same name 'LSTMCell' as a built-in Keras object. Consider renaming <class 'keras.layers.recurrent.LSTMCell'> to avoid naming conflicts when loading with `tf.keras.models.load_model`. If renaming is not possible, pass the object in the `custom_objects` parameter of the load function.\n"
          ]
        },
        {
          "output_type": "stream",
          "name": "stdout",
          "text": [
            "WARNING:tensorflow:Layer lstm_1 will not use cuDNN kernels since it doesn't meet the criteria. It will use a generic GPU kernel as fallback when running on GPU.\n"
          ]
        },
        {
          "output_type": "stream",
          "name": "stderr",
          "text": [
            "WARNING:tensorflow:Layer lstm_1 will not use cuDNN kernels since it doesn't meet the criteria. It will use a generic GPU kernel as fallback when running on GPU.\n"
          ]
        },
        {
          "output_type": "stream",
          "name": "stdout",
          "text": [
            "WARNING:tensorflow:Layer lstm_1 will not use cuDNN kernels since it doesn't meet the criteria. It will use a generic GPU kernel as fallback when running on GPU.\n"
          ]
        },
        {
          "output_type": "stream",
          "name": "stderr",
          "text": [
            "WARNING:tensorflow:Layer lstm_1 will not use cuDNN kernels since it doesn't meet the criteria. It will use a generic GPU kernel as fallback when running on GPU.\n"
          ]
        },
        {
          "output_type": "stream",
          "name": "stdout",
          "text": [
            "WARNING:tensorflow:Layer lstm_1 will not use cuDNN kernels since it doesn't meet the criteria. It will use a generic GPU kernel as fallback when running on GPU.\n"
          ]
        },
        {
          "output_type": "stream",
          "name": "stderr",
          "text": [
            "WARNING:tensorflow:Layer lstm_1 will not use cuDNN kernels since it doesn't meet the criteria. It will use a generic GPU kernel as fallback when running on GPU.\n"
          ]
        },
        {
          "output_type": "stream",
          "name": "stdout",
          "text": [
            "2/2 [==============================] - 1s 26ms/step - loss: 0.3891 - accuracy: 0.8281\n"
          ]
        }
      ],
      "source": [
        "model = LSTM.LSTM(config_main.CFG)\n",
        "model.create_train_pipeline(train_data_df)\n",
        "\n",
        "model.data_vectorization(config_main.CFG['model']['data_vectorization']['max_features'], \n",
        "                         config_main.CFG['model']['data_vectorization']['max_len'])\n",
        "model.build_model()\n",
        "model.train()\n",
        "\n",
        "model.create_test_pipeline(test_data_df)\n",
        "model.test()"
      ]
    },
    {
      "cell_type": "markdown",
      "source": [
        "# Conclusions: \n",
        "\n",
        "The model has a good accuracy of ~82.81% when testing on the two classes.\n",
        "\n",
        "The accuracy could be further improved by fine-tuning the model's hyperparameters,\n",
        "such as the number of layers, number of units per layer, dropout,\n",
        "learning rate, etc. A good choice for this purpose would be the use of Keras tuner: \n",
        "https://www.tensorflow.org/tutorials/keras/keras_tuner\n",
        "\n",
        "Different architectures could also be tested, that may prove more effective,\n",
        "such as BERT:\n",
        "https://www.tensorflow.org/text/tutorials/classify_text_with_bert"
      ],
      "metadata": {
        "id": "doaDE6k1-LFb"
      }
    }
  ],
  "metadata": {
    "accelerator": "GPU",
    "colab": {
      "collapsed_sections": [],
      "name": "SentimentAnalysis.ipynb",
      "provenance": []
    },
    "kernelspec": {
      "display_name": "Python 3",
      "name": "python3"
    },
    "language_info": {
      "name": "python"
    }
  },
  "nbformat": 4,
  "nbformat_minor": 0
}