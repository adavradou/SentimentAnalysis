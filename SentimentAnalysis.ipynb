{
  "nbformat": 4,
  "nbformat_minor": 0,
  "metadata": {
    "colab": {
      "name": "SentimentAnalysis.ipynb",
      "provenance": [],
      "collapsed_sections": []
    },
    "kernelspec": {
      "name": "python3",
      "display_name": "Python 3"
    },
    "language_info": {
      "name": "python"
    },
    "accelerator": "GPU"
  },
  "cells": [
    {
      "cell_type": "code",
      "execution_count": null,
      "metadata": {
        "id": "PDKbNnWRw0uO"
      },
      "outputs": [],
      "source": [
        "#References\n",
        "#https://towardsdatascience.com/another-twitter-sentiment-analysis-bb5b01ebad90\n",
        "#https://pasaentuciudad.com.mx/data-to-model-to-api-an-end-to-end-approach/\n",
        "#https://github.com/The-AI-Summer/Deep-Learning-In-Production/tree/master/2.%20Writing%20Deep%20Learning%20code:%20Best%20Practises"
      ]
    },
    {
      "cell_type": "markdown",
      "source": [
        "# Install and import the necessary dependencies"
      ],
      "metadata": {
        "id": "8H-02yf-xC7x"
      }
    },
    {
      "cell_type": "code",
      "source": [
        "def create_dir(dir): #TO-DO: REMOVE\n",
        "\n",
        "  if not os.path.exists(dir):\n",
        "    os.makedirs(dir)\n",
        "    print(\"Created Directory : \", dir)\n",
        "  else:\n",
        "    print(\"Directory already existed : \", dir)\n",
        "  return dir\n",
        "\n",
        "create_dir('/content/mydrive/SentimentAnalysis')"
      ],
      "metadata": {
        "id": "iC3jQBrPjlJX"
      },
      "execution_count": null,
      "outputs": []
    },
    {
      "cell_type": "code",
      "source": [
        "\n",
        "from google.colab import drive\n",
        "\n",
        "#This will prompt for authorization.\n",
        "drive.mount('/content/drive')\n",
        "\n",
        "#Create a symbolic link, in order no to be able to save weights on drive. Otherwise it gives an error. \n",
        "!ln -s /content/drive/My\\ Drive /content/mydrive\n",
        "\n",
        "\n",
        "#Install requirements\n",
        "%cd mydrive/SentimentAnalysis\n",
        "!pip install -r requirements.txt \n",
        "\n",
        "\n",
        "import os\n",
        "import sys\n",
        "import requests, zipfile, io\n",
        "\n",
        "import pandas as pd\n",
        "import re\n",
        "\n",
        "import wordninja, contractions, emoji #preprocessing.py\n",
        "\n",
        "import seaborn as sns #visualization.py\n",
        "import nltk #visualization.py\n",
        "from nltk.corpus import stopwords #visualization.py\n",
        "\n",
        "import tensorflow as tf\n",
        "\n",
        "from sklearn.model_selection import train_test_split\n",
        "\n",
        "sys.path.insert(0,'/content/mydrive/SentimentAnalysis/src/utils')\n",
        "import Config\n",
        "\n",
        "sys.path.insert(0,'/content/mydrive/SentimentAnalysis/src/data')\n",
        "import dataloader\n",
        "\n",
        "sys.path.insert(0,'/content/mydrive/SentimentAnalysis/src/models/')\n",
        "import BaseModel,LSTM\n",
        "\n",
        "sys.path.insert(0,'/content/mydrive/SentimentAnalysis/configs')\n",
        "from config_main import CFG\n"
      ],
      "metadata": {
        "id": "j7r9V2T_w-Rl"
      },
      "execution_count": null,
      "outputs": []
    },
    {
      "cell_type": "markdown",
      "source": [
        "# Load data"
      ],
      "metadata": {
        "id": "oDhp8yPlxQTW"
      }
    },
    {
      "cell_type": "code",
      "source": [
        "\n",
        "\"\"\"\n",
        "Creates a directory, if it does not exist.\n",
        "\n",
        "Input: directory\n",
        "Output: directory\n",
        "\"\"\"\n",
        "def create_dir(dir):\n",
        "  if not os.path.exists(dir):\n",
        "    os.makedirs(dir)\n",
        "    print(\"Created Directory : \", dir)\n",
        "  else:\n",
        "    print(\"Directory already existed : \", dir)\n",
        "  return dir\n",
        "\n",
        "  \n",
        "input_path = os.path.join('/content/mydrive/SentimentAnalysis/datasets', CFG['data']['url'])\n",
        "# download_dataset('/content/mydrive/SentimentAnalysis/datasets', CFG)\n",
        "\n",
        "#Download and unzip dataset\n",
        "!wget http://cs.stanford.edu/people/alecmgo/trainingandtestdata.zip\n",
        "create_dir(input_path)\n",
        "!unzip trainingandtestdata.zip -d \"$input_path\" \n",
        "\n",
        "#Read unzipped data\n",
        "train_data_df = pd.read_csv(os.path.join(input_path, 'training.1600000.processed.noemoticon.csv'),  encoding='latin-1', usecols=[0,5], names=['sentiment','tweet'])\n",
        "\n",
        "#Print dataset info\n",
        "print(train_data_df.info())  \n"
      ],
      "metadata": {
        "id": "hefMqAF-Phsa"
      },
      "execution_count": null,
      "outputs": []
    },
    {
      "cell_type": "code",
      "source": [
        "import wget\n",
        "url_name = config_f['data']['url']\n",
        "print(url_name)\n",
        "wget.download(url_name)"
      ],
      "metadata": {
        "colab": {
          "base_uri": "https://localhost:8080/",
          "height": 52
        },
        "id": "iDvmsQh8_sCj",
        "outputId": "6e64f989-a29b-4195-e08d-6d76a1545e5f"
      },
      "execution_count": 67,
      "outputs": [
        {
          "output_type": "stream",
          "name": "stdout",
          "text": [
            "http://cs.stanford.edu/people/alecmgo/trainingandtestdata.zip\n"
          ]
        },
        {
          "output_type": "execute_result",
          "data": {
            "text/plain": [
              "'trainingandtestdata.zip'"
            ],
            "application/vnd.google.colaboratory.intrinsic+json": {
              "type": "string"
            }
          },
          "metadata": {},
          "execution_count": 67
        }
      ]
    },
    {
      "cell_type": "code",
      "source": [
        "sys.path.insert(0,'/content/mydrive/SentimentAnalysis/src/data')\n",
        "import dataloader\n"
      ],
      "metadata": {
        "id": "p-7CaWOH6U06"
      },
      "execution_count": 58,
      "outputs": []
    },
    {
      "cell_type": "code",
      "source": [
        "dataloader.download_dataset('/content/mydrive/SentimentAnalysis/datasets', CFG)"
      ],
      "metadata": {
        "colab": {
          "base_uri": "https://localhost:8080/"
        },
        "id": "PmD_kf8m6esE",
        "outputId": "37135439-7d33-4f16-8ebc-19556a161310"
      },
      "execution_count": 84,
      "outputs": [
        {
          "output_type": "stream",
          "name": "stdout",
          "text": [
            "/content/mydrive/SentimentAnalysis/datasets/Sentiment140\n"
          ]
        }
      ]
    },
    {
      "cell_type": "code",
      "source": [
        "from importlib import reload  # Py3 only; unneeded in py2.\n",
        "foo = reload(dataloader)"
      ],
      "metadata": {
        "id": "68m5h5h66aXo"
      },
      "execution_count": 83,
      "outputs": []
    },
    {
      "cell_type": "markdown",
      "source": [
        "# Preprocess data"
      ],
      "metadata": {
        "id": "PMcYrpxB3u_7"
      }
    },
    {
      "cell_type": "code",
      "source": [
        "\n",
        "\"\"\"\n",
        "Removes the emojis from a tweet.\n",
        "Input:tweet for cleaning from emojis(str)\n",
        "Output: tweet without emojis(str)\n",
        "\"\"\"\n",
        "def strip_emoji(tweet):\n",
        "  new_tweet = re.sub(emoji.get_emoji_regexp(), r\"\", tweet)\n",
        "  return new_tweet.strip()\n",
        "\n",
        "\n",
        "\"\"\"\n",
        "Removes the urls from a tweet.\n",
        "Input:tweet for cleaning from urls(str)\n",
        "Output: tweet without urls(str)\n",
        "\"\"\"\n",
        "def strip_urls(tweet):\n",
        "  new_tweet = re.sub(r'(https|http)?:\\/\\/(\\w|\\.|\\/|\\?|\\=|\\&|\\%)*\\b', '', tweet, flags=re.MULTILINE)\n",
        "  return new_tweet.strip()\n",
        "\n",
        "\n",
        "\"\"\"\n",
        "Removes the tags from a tweet.\n",
        "Input:tweet for cleaning from tags(str)\n",
        "Output: tweet without tags(str)\n",
        "\"\"\"\n",
        "def remove_tags(tweet):\n",
        "  return \" \".join([token for token in tweet.split() if not token.startswith(\"@\")])\n",
        "\n",
        "\n",
        "\"\"\"\n",
        "Performs tweet preprocessing, by removing emojis, urls and tags.\n",
        "Input:tweet for preprocessing(str)\n",
        "Output: preprocessed tweet(str)\n",
        "\"\"\"\n",
        "def preprocess_tweet(tweet):\n",
        "  tweet = remove_tags(strip_emoji(strip_urls(tweet)))\n",
        "  tweet = contractions.fix(\" \".join(wordninja.split(tweet)))\n",
        "  tweet = [token.lower() for token in tweet.split() if (len(set(token))>1)]\n",
        "  return \" \".join(tweet)\n",
        "\n",
        "\n",
        "# Preprocessing tweets data\n",
        "print(\"Cleaning and parsing the tweets...\\n\")\n",
        "train_data_df = train_data_df.iloc[0:10000] #TO-DO: Remove\n",
        "train_data_df.tweet = train_data_df.tweet.apply(preprocess_tweet)\n",
        "print(\"Finished!\\n\")\n",
        "\n",
        "# Preprocessing labels to have classes 0 and 1\n",
        "train_data_df.sentiment = train_data_df.sentiment.apply(lambda value: 1 if value==4 else value)\n",
        "\n",
        "print(\"Sentiment values: \")\n",
        "print(train_data_df.sentiment.value_counts())\n",
        "\n",
        "print(train_data_df.head(5)) \n",
        "\n"
      ],
      "metadata": {
        "id": "WwxW9HXv-pkL"
      },
      "execution_count": null,
      "outputs": []
    },
    {
      "cell_type": "markdown",
      "source": [
        "# Analyze data\n",
        "Estimating the vocabulary size and the vector sequence length to be fed to the model every instance is a crucial step for a good model.\n",
        "\n",
        "This is achieved by analyzing the training dataset, by plotting the \n",
        "distribution of tweet lengths across the training data.\n"
      ],
      "metadata": {
        "id": "jUoDy_SLa3WD"
      }
    },
    {
      "cell_type": "code",
      "source": [
        "\"\"\"\n",
        "Return the length of a tweet.\n",
        "Input: tweet(str)\n",
        "Output: length(int)\n",
        "\"\"\"\n",
        "def tweet_length(tweet):\n",
        "  return len([token for token in tweet.split()])\n",
        "\n",
        "tweet_lengths = [tweet_length(tweet) for tweet in train_data_df.tweet.tolist()]\n",
        "sns.distplot(tweet_lengths)\n",
        "\n",
        "# Unique words\n",
        "unique_words = set([token for tweet in train_data_df.tweet for token in tweet.split()])\n",
        "print(\"Total Unique Words:\", len(unique_words))\n",
        "\n",
        "# Counting Total Words and Stop Words\n",
        "nltk.download(\"stopwords\")\n",
        "stop_words = stopwords.words(\"english\")\n",
        "total_words = [token for tweet in train_data_df.tweet for token in tweet.split()]\n",
        "total_stop_words = [token for tweet in train_data_df.tweet for token in tweet.split() if token in stop_words]\n",
        "print('Total words', len(total_words))\n",
        "print('Total stop words', len(total_stop_words))\n",
        "print('Ratio of total words to total stop words:', len(total_words)/len(total_stop_words))"
      ],
      "metadata": {
        "id": "LzakgPb2QY-T",
        "colab": {
          "base_uri": "https://localhost:8080/",
          "height": 423
        },
        "outputId": "a9fd287f-5861-41f9-e717-d13cf653eb2d"
      },
      "execution_count": 8,
      "outputs": [
        {
          "output_type": "stream",
          "name": "stderr",
          "text": [
            "/usr/local/lib/python3.7/dist-packages/seaborn/distributions.py:2619: FutureWarning: `distplot` is a deprecated function and will be removed in a future version. Please adapt your code to use either `displot` (a figure-level function with similar flexibility) or `histplot` (an axes-level function for histograms).\n",
            "  warnings.warn(msg, FutureWarning)\n"
          ]
        },
        {
          "output_type": "stream",
          "name": "stdout",
          "text": [
            "Total Unique Words: 2799\n",
            "[nltk_data] Downloading package stopwords to /root/nltk_data...\n",
            "[nltk_data]   Unzipping corpora/stopwords.zip.\n",
            "Total words 12739\n",
            "Total stop words 5707\n",
            "Ratio of total words to total stop words: 2.232171018048011\n"
          ]
        },
        {
          "output_type": "display_data",
          "data": {
            "text/plain": [
              "<Figure size 432x288 with 1 Axes>"
            ],
            "image/png": "[encoded data removed]"
          },
          "metadata": {
            "needs_background": "light"
          }
        }
      ]
    },
    {
      "cell_type": "markdown",
      "source": [
        "# Train model\n"
      ],
      "metadata": {
        "id": "rspb76kIluXY"
      }
    },
    {
      "cell_type": "code",
      "source": [
        "from importlib import reload  # Py3 only; unneeded in py2.\n",
        "foo = reload(LSTM)"
      ],
      "metadata": {
        "id": "N0eU2qradaKb"
      },
      "execution_count": 13,
      "outputs": []
    },
    {
      "cell_type": "code",
      "source": [
        "model = LSTM.LSTM(CFG)\n",
        "model.split_training_data(train_data_df)\n",
        "model.data_vectorization(75000, 50)\n",
        "model.build_model()\n",
        "model.train()"
      ],
      "metadata": {
        "id": "HG3NE-k2EPrf"
      },
      "execution_count": 14,
      "outputs": []
    },
    {
      "cell_type": "markdown",
      "source": [
        "# Save/Serialize model"
      ],
      "metadata": {
        "id": "2kUhFeFiG3Mx"
      }
    },
    {
      "cell_type": "code",
      "source": [
        "# Saving Model\n",
        "MODEL_DIR = \"/content/mydrive/SentimentAnalysis/models\"\n",
        "version = 1\n",
        "export_path = os.path.join(MODEL_DIR, str(version))\n",
        "print('export_path = {}\\n'.format(export_path))\n",
        "\n",
        "tf.keras.models.save_model(\n",
        "    model,\n",
        "    export_path,\n",
        "    overwrite=True,\n",
        "    include_optimizer=True,\n",
        "    save_format=None,\n",
        "    signatures=None,\n",
        "    options=None\n",
        ")\n",
        "\n",
        "# Check the path\n",
        "print('\\nSaved model:')\n",
        "!ls -l {export_path}\n",
        "\n",
        "# Using SavedModelCLI to check if model is persisted properly\n",
        "!saved_model_cli show --dir {export_path} --all"
      ],
      "metadata": {
        "id": "cDGS7CzMocnQ"
      },
      "execution_count": null,
      "outputs": []
    },
    {
      "cell_type": "markdown",
      "source": [
        ""
      ],
      "metadata": {
        "id": "kE1NmDUCG2oW"
      }
    },
    {
      "cell_type": "code",
      "source": [
        "model.evaluate() #TO-DO"
      ],
      "metadata": {
        "id": "XamCNmTfEPzh"
      },
      "execution_count": null,
      "outputs": []
    },
    {
      "cell_type": "markdown",
      "source": [
        "# Evaluate model"
      ],
      "metadata": {
        "id": "RDpHQnlBjSvC"
      }
    },
    {
      "cell_type": "code",
      "source": [
        "# Loading and Evaluation of Model\n",
        "\n",
        "test_data_df = pd.read_csv(os.path.join(input_path, 'testdata.manual.2009.06.14.csv'),  encoding='latin-1', usecols=[0,5], names=['sentiment','tweet'])\n",
        "print(test_data_df.sentiment.value_counts()/test_data_df.shape[0])\n",
        "\n",
        "# Preprocessing tweets data\n",
        "print(\"Cleaning and parsing the tweets...\\n\")\n",
        "test_data_df = test_data_df.iloc[0:1000] #TO-DO: Remove\n",
        "test_data_df.tweet = test_data_df.tweet.apply(preprocess_tweet) #TO-DO\n",
        "print(\"Finished!\\n\")\n",
        "\n",
        "test_data_df = test_data_df[test_data_df.sentiment!=2] #Remove intermediate polarities\n",
        "test_data_df.sentiment.value_counts()/test_data_df.shape[0]\n",
        "\n",
        "test_data_df.sentiment = test_data_df.sentiment.apply(lambda value: 1 if value==4 else value)\n",
        "\n",
        "print(test_data_df.sentiment.value_counts()/test_data_df.shape[0])\n",
        "\n",
        "\n",
        "# Preprocessing labels to have classes 0 and 1\n",
        "test_data_df.sentiment = test_data_df.sentiment.apply(lambda value: 1 if value==4 else value)\n",
        "\n",
        "#Create data pipeline for test\n",
        "test_dataset = create_data_pipeline(test_data_df.tweet, test_data_df.sentiment, batch_size=128, is_training=False)\n",
        "\n",
        "\n",
        "model = tf.keras.models.load_model(export_path)\n",
        "model.evaluate(test_dataset)"
      ],
      "metadata": {
        "id": "jKgxojXgpahr"
      },
      "execution_count": null,
      "outputs": []
    }
  ]
}